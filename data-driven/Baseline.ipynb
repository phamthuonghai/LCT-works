{
 "cells": [
  {
   "cell_type": "markdown",
   "metadata": {
    "deletable": true,
    "editable": true
   },
   "source": [
    "# Baseline algorithm\n",
    "BoW and Linear Regression as in http://www.anthology.aclweb.org/W/W16/W16-0404.pdf"
   ]
  },
  {
   "cell_type": "code",
   "execution_count": 1,
   "metadata": {
    "collapsed": false,
    "deletable": true,
    "editable": true
   },
   "outputs": [],
   "source": [
    "import pandas as pd\n",
    "from sklearn.feature_extraction.text import CountVectorizer, TfidfVectorizer\n",
    "from sklearn.linear_model import LinearRegression, RidgeCV\n",
    "from sklearn.pipeline import Pipeline\n",
    "from sklearn.metrics import mean_squared_error, r2_score"
   ]
  },
  {
   "cell_type": "code",
   "execution_count": 2,
   "metadata": {
    "collapsed": false,
    "deletable": true,
    "editable": true
   },
   "outputs": [
    {
     "name": "stdout",
     "output_type": "stream",
     "text": [
      "2315\n",
      "579\n"
     ]
    }
   ],
   "source": [
    "df_train = pd.read_pickle('./data/df_train.pkl')\n",
    "df_test = pd.read_pickle('./data/df_test.pkl')\n",
    "print(df_train.index.size)\n",
    "print(df_test.index.size)"
   ]
  },
  {
   "cell_type": "markdown",
   "metadata": {
    "deletable": true,
    "editable": true
   },
   "source": [
    "## BOW -> Linear regression"
   ]
  },
  {
   "cell_type": "code",
   "execution_count": 9,
   "metadata": {
    "collapsed": false,
    "deletable": true,
    "editable": true
   },
   "outputs": [
    {
     "name": "stdout",
     "output_type": "stream",
     "text": [
      "R2 score for Valence: -1.404152\n",
      "MSE score for Valence: 0.053072\n",
      "R2 score for Arousal: -3.337469\n",
      "MSE score for Arousal: 0.246950\n"
     ]
    }
   ],
   "source": [
    "vectorizer = CountVectorizer(min_df=3)\n",
    "regr = LinearRegression()\n",
    "\n",
    "bow_ln_regr = Pipeline([('bow', vectorizer), ('linear_regr', regr)])\n",
    "\n",
    "# Valence\n",
    "bow_ln_regr.fit(df_train.text, df_train.val)\n",
    "pred = bow_ln_regr.predict(df_test.text)\n",
    "print('R2 score for Valence: %f' % r2_score(df_test.val, pred))\n",
    "print('MSE score for Valence: %f' % mean_squared_error(df_test.val, pred))\n",
    "\n",
    "# Arousal\n",
    "bow_ln_regr.fit(df_train.text, df_train.aro)\n",
    "pred = bow_ln_regr.predict(df_test.text)\n",
    "print('R2 score for Arousal: %f' % r2_score(df_test.aro, pred))\n",
    "print('MSE score for Arousal: %f' % mean_squared_error(df_test.aro, pred))"
   ]
  },
  {
   "cell_type": "markdown",
   "metadata": {
    "deletable": true,
    "editable": true
   },
   "source": [
    "## BOW -> Ridge regression"
   ]
  },
  {
   "cell_type": "code",
   "execution_count": 14,
   "metadata": {
    "collapsed": false,
    "deletable": true,
    "editable": true
   },
   "outputs": [
    {
     "name": "stdout",
     "output_type": "stream",
     "text": [
      "R2 score for Valence: 0.311053\n",
      "MSE score for Valence: 0.015209\n",
      "R2 score for Arousal: -0.033499\n",
      "MSE score for Arousal: 0.058841\n"
     ]
    }
   ],
   "source": [
    "vectorizer = CountVectorizer(min_df=3)\n",
    "regr = RidgeCV(alphas=(0.1, 1.0, 10.0), cv=5)\n",
    "\n",
    "bow_ln_regr = Pipeline([('bow', vectorizer), ('linear_regr', regr)])\n",
    "\n",
    "# Valence\n",
    "bow_ln_regr.fit(df_train.text, df_train.val)\n",
    "pred = bow_ln_regr.predict(df_test.text)\n",
    "print('R2 score for Valence: %f' % r2_score(df_test.val, pred))\n",
    "print('MSE score for Valence: %f' % mean_squared_error(df_test.val, pred))\n",
    "\n",
    "# Arousal\n",
    "bow_ln_regr.fit(df_train.text, df_train.aro)\n",
    "pred = bow_ln_regr.predict(df_test.text)\n",
    "print('R2 score for Arousal: %f' % r2_score(df_test.aro, pred))\n",
    "print('MSE score for Arousal: %f' % mean_squared_error(df_test.aro, pred))"
   ]
  },
  {
   "cell_type": "markdown",
   "metadata": {
    "deletable": true,
    "editable": true
   },
   "source": [
    "## BOW 3-grams -> Ridge regression"
   ]
  },
  {
   "cell_type": "code",
   "execution_count": 15,
   "metadata": {
    "collapsed": false,
    "deletable": true,
    "editable": true
   },
   "outputs": [
    {
     "name": "stdout",
     "output_type": "stream",
     "text": [
      "R2 score for Valence: 0.310643\n",
      "MSE score for Valence: 0.015218\n",
      "R2 score for Arousal: -0.038058\n",
      "MSE score for Arousal: 0.059101\n"
     ]
    }
   ],
   "source": [
    "vectorizer = CountVectorizer(min_df=3, ngram_range=(1,3))\n",
    "regr = RidgeCV(alphas=(0.1, 1.0, 10.0), cv=5)\n",
    "\n",
    "bow_ln_regr = Pipeline([('bow', vectorizer), ('linear_regr', regr)])\n",
    "\n",
    "# Valence\n",
    "bow_ln_regr.fit(df_train.text, df_train.val)\n",
    "pred = bow_ln_regr.predict(df_test.text)\n",
    "print('R2 score for Valence: %f' % r2_score(df_test.val, pred))\n",
    "print('MSE score for Valence: %f' % mean_squared_error(df_test.val, pred))\n",
    "\n",
    "# Arousal\n",
    "bow_ln_regr.fit(df_train.text, df_train.aro)\n",
    "pred = bow_ln_regr.predict(df_test.text)\n",
    "print('R2 score for Arousal: %f' % r2_score(df_test.aro, pred))\n",
    "print('MSE score for Arousal: %f' % mean_squared_error(df_test.aro, pred))"
   ]
  },
  {
   "cell_type": "markdown",
   "metadata": {
    "deletable": true,
    "editable": true
   },
   "source": [
    "## TFIDF -> Ridge regression"
   ]
  },
  {
   "cell_type": "code",
   "execution_count": 16,
   "metadata": {
    "collapsed": false,
    "deletable": true,
    "editable": true
   },
   "outputs": [
    {
     "name": "stdout",
     "output_type": "stream",
     "text": [
      "R2 score for Valence: 0.310546\n",
      "MSE score for Valence: 0.015220\n",
      "R2 score for Arousal: -0.038329\n",
      "MSE score for Arousal: 0.059116\n"
     ]
    }
   ],
   "source": [
    "vectorizer = TfidfVectorizer(min_df=3)\n",
    "regr = RidgeCV(alphas=(0.1, 1.0, 10.0), cv=5)\n",
    "\n",
    "tfidf_ln_regr = Pipeline([('tfidf', vectorizer), ('linear_regr', regr)])\n",
    "\n",
    "# Valence\n",
    "bow_ln_regr.fit(df_train.text, df_train.val)\n",
    "pred = bow_ln_regr.predict(df_test.text)\n",
    "print('R2 score for Valence: %f' % r2_score(df_test.val, pred))\n",
    "print('MSE score for Valence: %f' % mean_squared_error(df_test.val, pred))\n",
    "\n",
    "# Arousal\n",
    "bow_ln_regr.fit(df_train.text, df_train.aro)\n",
    "pred = bow_ln_regr.predict(df_test.text)\n",
    "print('R2 score for Arousal: %f' % r2_score(df_test.aro, pred))\n",
    "print('MSE score for Arousal: %f' % mean_squared_error(df_test.aro, pred))"
   ]
  }
 ],
 "metadata": {
  "kernelspec": {
   "display_name": "Python 2",
   "language": "python",
   "name": "python2"
  },
  "language_info": {
   "codemirror_mode": {
    "name": "ipython",
    "version": 2
   },
   "file_extension": ".py",
   "mimetype": "text/x-python",
   "name": "python",
   "nbconvert_exporter": "python",
   "pygments_lexer": "ipython2",
   "version": "2.7.12"
  }
 },
 "nbformat": 4,
 "nbformat_minor": 2
}
