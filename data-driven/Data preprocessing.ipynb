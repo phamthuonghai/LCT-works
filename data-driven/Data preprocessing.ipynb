{
 "cells": [
  {
   "cell_type": "markdown",
   "metadata": {
    "deletable": true,
    "editable": true
   },
   "source": [
    "# Data preprocess\n",
    "\n",
    "## Data acquisition\n",
    "* Main data from\n",
    "~~~ bash\n",
    "wget http://mypersonality.org/wiki/lib/exe/fetch.php?media=dataset-fb-valence-arousal-anon.zip\n",
    "unzip fetch.php\\?media\\=dataset-fb-valence-arousal-anon.zip\n",
    "~~~\n",
    "* Sentiment lexicon (http://saifmohammad.com/WebPages/SCL.html) with intensity\n",
    "~~~ bash\n",
    "wget http://saifmohammad.com/WebDocs/lexiconstoreleaseonsclpage/SCL-NMA.zip\n",
    "unzip SCL-NMA.zip\n",
    "~~~"
   ]
  },
  {
   "cell_type": "code",
   "execution_count": 1,
   "metadata": {
    "collapsed": false,
    "deletable": true,
    "editable": true
   },
   "outputs": [],
   "source": [
    "import pandas as pd\n",
    "import nltk\n",
    "import pickle\n",
    "from nltk.tokenize.casual import TweetTokenizer\n",
    "from tqdm import tqdm\n",
    "from sklearn.model_selection import train_test_split"
   ]
  },
  {
   "cell_type": "code",
   "execution_count": 2,
   "metadata": {
    "collapsed": false,
    "deletable": true,
    "editable": true
   },
   "outputs": [
    {
     "name": "stdout",
     "output_type": "stream",
     "text": [
      "2894\n"
     ]
    },
    {
     "data": {
      "text/html": [
       "<div>\n",
       "<table border=\"1\" class=\"dataframe\">\n",
       "  <thead>\n",
       "    <tr style=\"text-align: right;\">\n",
       "      <th></th>\n",
       "      <th>text</th>\n",
       "      <th>val1</th>\n",
       "      <th>val2</th>\n",
       "      <th>aro1</th>\n",
       "      <th>aro2</th>\n",
       "    </tr>\n",
       "  </thead>\n",
       "  <tbody>\n",
       "    <tr>\n",
       "      <th>0</th>\n",
       "      <td>We'll be off and running to a lil' place calle...</td>\n",
       "      <td>9</td>\n",
       "      <td>9</td>\n",
       "      <td>8</td>\n",
       "      <td>8</td>\n",
       "    </tr>\n",
       "    <tr>\n",
       "      <th>1</th>\n",
       "      <td>I really wana move soon!</td>\n",
       "      <td>4</td>\n",
       "      <td>5</td>\n",
       "      <td>5</td>\n",
       "      <td>7</td>\n",
       "    </tr>\n",
       "    <tr>\n",
       "      <th>2</th>\n",
       "      <td>thinking at charity cup</td>\n",
       "      <td>5</td>\n",
       "      <td>5</td>\n",
       "      <td>1</td>\n",
       "      <td>1</td>\n",
       "    </tr>\n",
       "    <tr>\n",
       "      <th>3</th>\n",
       "      <td>thinks that for girls, boys are easily found. ...</td>\n",
       "      <td>4</td>\n",
       "      <td>3</td>\n",
       "      <td>6</td>\n",
       "      <td>7</td>\n",
       "    </tr>\n",
       "    <tr>\n",
       "      <th>4</th>\n",
       "      <td>Our Wedding Anniversary tonight...</td>\n",
       "      <td>7</td>\n",
       "      <td>7</td>\n",
       "      <td>4</td>\n",
       "      <td>5</td>\n",
       "    </tr>\n",
       "  </tbody>\n",
       "</table>\n",
       "</div>"
      ],
      "text/plain": [
       "                                                text  val1  val2  aro1  aro2\n",
       "0  We'll be off and running to a lil' place calle...     9     9     8     8\n",
       "1                           I really wana move soon!     4     5     5     7\n",
       "2                            thinking at charity cup     5     5     1     1\n",
       "3  thinks that for girls, boys are easily found. ...     4     3     6     7\n",
       "4                 Our Wedding Anniversary tonight...     7     7     4     5"
      ]
     },
     "execution_count": 2,
     "metadata": {},
     "output_type": "execute_result"
    }
   ],
   "source": [
    "df_raw = pd.read_csv('dataset-fb-valence-arousal-anon.csv')\n",
    "\n",
    "df_raw.columns = ['text', 'val1', 'val2', 'aro1', 'aro2']\n",
    "df_raw.dropna(inplace=True)\n",
    "print(df_raw.index.size)\n",
    "df_raw.head()"
   ]
  },
  {
   "cell_type": "markdown",
   "metadata": {
    "deletable": true,
    "editable": true
   },
   "source": [
    "## Text\n",
    "To preserve emoticons, use TweetTokenizer instead of the recommended TreebankWordTokenizer"
   ]
  },
  {
   "cell_type": "code",
   "execution_count": 3,
   "metadata": {
    "collapsed": false,
    "deletable": true,
    "editable": true
   },
   "outputs": [],
   "source": [
    "tknzr = TweetTokenizer(reduce_len=True)\n",
    "df_raw = df_raw.assign(text_tok = \n",
    "                       df_raw.apply(lambda row: ' '.join(tknzr.tokenize(row.text.strip())), axis=1))"
   ]
  },
  {
   "cell_type": "markdown",
   "metadata": {
    "deletable": true,
    "editable": true
   },
   "source": [
    "## Label"
   ]
  },
  {
   "cell_type": "code",
   "execution_count": 4,
   "metadata": {
    "collapsed": true,
    "deletable": true,
    "editable": true
   },
   "outputs": [],
   "source": [
    "diff_val = df_raw['val1'] - df_raw['val2']\n",
    "diff_aro = df_raw['aro1'] - df_raw['aro2']"
   ]
  },
  {
   "cell_type": "code",
   "execution_count": 5,
   "metadata": {
    "collapsed": false,
    "deletable": true,
    "editable": true
   },
   "outputs": [
    {
     "data": {
      "text/plain": [
       "count    2894.000000\n",
       "mean        0.020733\n",
       "std         1.234199\n",
       "min        -5.000000\n",
       "25%        -1.000000\n",
       "50%         0.000000\n",
       "75%         1.000000\n",
       "max         4.000000\n",
       "dtype: float64"
      ]
     },
     "execution_count": 5,
     "metadata": {},
     "output_type": "execute_result"
    }
   ],
   "source": [
    "diff_aro.describe()"
   ]
  },
  {
   "cell_type": "code",
   "execution_count": 6,
   "metadata": {
    "collapsed": false,
    "deletable": true,
    "editable": true
   },
   "outputs": [],
   "source": [
    "df_raw = df_raw.assign(val = (df_raw['val1'] + df_raw['val2'] - 2.0)/(8*2))\n",
    "df_raw = df_raw.assign(aro = (df_raw['aro1'] + df_raw['aro2'] - 2.0)/(8*2))"
   ]
  },
  {
   "cell_type": "code",
   "execution_count": 7,
   "metadata": {
    "collapsed": false,
    "deletable": true,
    "editable": true
   },
   "outputs": [
    {
     "data": {
      "text/html": [
       "<div>\n",
       "<table border=\"1\" class=\"dataframe\">\n",
       "  <thead>\n",
       "    <tr style=\"text-align: right;\">\n",
       "      <th></th>\n",
       "      <th>val1</th>\n",
       "      <th>val2</th>\n",
       "      <th>aro1</th>\n",
       "      <th>aro2</th>\n",
       "      <th>val</th>\n",
       "      <th>aro</th>\n",
       "    </tr>\n",
       "  </thead>\n",
       "  <tbody>\n",
       "    <tr>\n",
       "      <th>count</th>\n",
       "      <td>2894.000000</td>\n",
       "      <td>2894.000000</td>\n",
       "      <td>2894.000000</td>\n",
       "      <td>2894.000000</td>\n",
       "      <td>2894.000000</td>\n",
       "      <td>2894.000000</td>\n",
       "    </tr>\n",
       "    <tr>\n",
       "      <th>mean</th>\n",
       "      <td>5.274015</td>\n",
       "      <td>5.250173</td>\n",
       "      <td>3.363856</td>\n",
       "      <td>3.343124</td>\n",
       "      <td>0.532762</td>\n",
       "      <td>0.294186</td>\n",
       "    </tr>\n",
       "    <tr>\n",
       "      <th>std</th>\n",
       "      <td>1.042098</td>\n",
       "      <td>1.485600</td>\n",
       "      <td>1.958775</td>\n",
       "      <td>2.183769</td>\n",
       "      <td>0.148835</td>\n",
       "      <td>0.247551</td>\n",
       "    </tr>\n",
       "    <tr>\n",
       "      <th>min</th>\n",
       "      <td>2.000000</td>\n",
       "      <td>1.000000</td>\n",
       "      <td>1.000000</td>\n",
       "      <td>1.000000</td>\n",
       "      <td>0.062500</td>\n",
       "      <td>0.000000</td>\n",
       "    </tr>\n",
       "    <tr>\n",
       "      <th>25%</th>\n",
       "      <td>5.000000</td>\n",
       "      <td>5.000000</td>\n",
       "      <td>2.000000</td>\n",
       "      <td>1.000000</td>\n",
       "      <td>0.437500</td>\n",
       "      <td>0.062500</td>\n",
       "    </tr>\n",
       "    <tr>\n",
       "      <th>50%</th>\n",
       "      <td>5.000000</td>\n",
       "      <td>5.000000</td>\n",
       "      <td>3.000000</td>\n",
       "      <td>3.000000</td>\n",
       "      <td>0.500000</td>\n",
       "      <td>0.187500</td>\n",
       "    </tr>\n",
       "    <tr>\n",
       "      <th>75%</th>\n",
       "      <td>6.000000</td>\n",
       "      <td>6.000000</td>\n",
       "      <td>5.000000</td>\n",
       "      <td>5.000000</td>\n",
       "      <td>0.625000</td>\n",
       "      <td>0.500000</td>\n",
       "    </tr>\n",
       "    <tr>\n",
       "      <th>max</th>\n",
       "      <td>9.000000</td>\n",
       "      <td>9.000000</td>\n",
       "      <td>9.000000</td>\n",
       "      <td>9.000000</td>\n",
       "      <td>1.000000</td>\n",
       "      <td>1.000000</td>\n",
       "    </tr>\n",
       "  </tbody>\n",
       "</table>\n",
       "</div>"
      ],
      "text/plain": [
       "              val1         val2         aro1         aro2          val  \\\n",
       "count  2894.000000  2894.000000  2894.000000  2894.000000  2894.000000   \n",
       "mean      5.274015     5.250173     3.363856     3.343124     0.532762   \n",
       "std       1.042098     1.485600     1.958775     2.183769     0.148835   \n",
       "min       2.000000     1.000000     1.000000     1.000000     0.062500   \n",
       "25%       5.000000     5.000000     2.000000     1.000000     0.437500   \n",
       "50%       5.000000     5.000000     3.000000     3.000000     0.500000   \n",
       "75%       6.000000     6.000000     5.000000     5.000000     0.625000   \n",
       "max       9.000000     9.000000     9.000000     9.000000     1.000000   \n",
       "\n",
       "               aro  \n",
       "count  2894.000000  \n",
       "mean      0.294186  \n",
       "std       0.247551  \n",
       "min       0.000000  \n",
       "25%       0.062500  \n",
       "50%       0.187500  \n",
       "75%       0.500000  \n",
       "max       1.000000  "
      ]
     },
     "execution_count": 7,
     "metadata": {},
     "output_type": "execute_result"
    }
   ],
   "source": [
    "df_raw.describe()"
   ]
  },
  {
   "cell_type": "code",
   "execution_count": 8,
   "metadata": {
    "collapsed": false,
    "deletable": true,
    "editable": true
   },
   "outputs": [
    {
     "data": {
      "text/html": [
       "<div>\n",
       "<table border=\"1\" class=\"dataframe\">\n",
       "  <thead>\n",
       "    <tr style=\"text-align: right;\">\n",
       "      <th></th>\n",
       "      <th>text</th>\n",
       "      <th>val1</th>\n",
       "      <th>val2</th>\n",
       "      <th>aro1</th>\n",
       "      <th>aro2</th>\n",
       "      <th>text_tok</th>\n",
       "      <th>val</th>\n",
       "      <th>aro</th>\n",
       "    </tr>\n",
       "  </thead>\n",
       "  <tbody>\n",
       "    <tr>\n",
       "      <th>0</th>\n",
       "      <td>We'll be off and running to a lil' place calle...</td>\n",
       "      <td>9</td>\n",
       "      <td>9</td>\n",
       "      <td>8</td>\n",
       "      <td>8</td>\n",
       "      <td>We'll be off and running to a lil ' place call...</td>\n",
       "      <td>1.0000</td>\n",
       "      <td>0.8750</td>\n",
       "    </tr>\n",
       "    <tr>\n",
       "      <th>1</th>\n",
       "      <td>I really wana move soon!</td>\n",
       "      <td>4</td>\n",
       "      <td>5</td>\n",
       "      <td>5</td>\n",
       "      <td>7</td>\n",
       "      <td>I really wana move soon !</td>\n",
       "      <td>0.4375</td>\n",
       "      <td>0.6250</td>\n",
       "    </tr>\n",
       "    <tr>\n",
       "      <th>2</th>\n",
       "      <td>thinking at charity cup</td>\n",
       "      <td>5</td>\n",
       "      <td>5</td>\n",
       "      <td>1</td>\n",
       "      <td>1</td>\n",
       "      <td>thinking at charity cup</td>\n",
       "      <td>0.5000</td>\n",
       "      <td>0.0000</td>\n",
       "    </tr>\n",
       "    <tr>\n",
       "      <th>3</th>\n",
       "      <td>thinks that for girls, boys are easily found. ...</td>\n",
       "      <td>4</td>\n",
       "      <td>3</td>\n",
       "      <td>6</td>\n",
       "      <td>7</td>\n",
       "      <td>thinks that for girls , boys are easily found ...</td>\n",
       "      <td>0.3125</td>\n",
       "      <td>0.6875</td>\n",
       "    </tr>\n",
       "    <tr>\n",
       "      <th>4</th>\n",
       "      <td>Our Wedding Anniversary tonight...</td>\n",
       "      <td>7</td>\n",
       "      <td>7</td>\n",
       "      <td>4</td>\n",
       "      <td>5</td>\n",
       "      <td>Our Wedding Anniversary tonight ...</td>\n",
       "      <td>0.7500</td>\n",
       "      <td>0.4375</td>\n",
       "    </tr>\n",
       "  </tbody>\n",
       "</table>\n",
       "</div>"
      ],
      "text/plain": [
       "                                                text  val1  val2  aro1  aro2  \\\n",
       "0  We'll be off and running to a lil' place calle...     9     9     8     8   \n",
       "1                           I really wana move soon!     4     5     5     7   \n",
       "2                            thinking at charity cup     5     5     1     1   \n",
       "3  thinks that for girls, boys are easily found. ...     4     3     6     7   \n",
       "4                 Our Wedding Anniversary tonight...     7     7     4     5   \n",
       "\n",
       "                                            text_tok     val     aro  \n",
       "0  We'll be off and running to a lil ' place call...  1.0000  0.8750  \n",
       "1                          I really wana move soon !  0.4375  0.6250  \n",
       "2                            thinking at charity cup  0.5000  0.0000  \n",
       "3  thinks that for girls , boys are easily found ...  0.3125  0.6875  \n",
       "4                Our Wedding Anniversary tonight ...  0.7500  0.4375  "
      ]
     },
     "execution_count": 8,
     "metadata": {},
     "output_type": "execute_result"
    }
   ],
   "source": [
    "df_raw.head()"
   ]
  },
  {
   "cell_type": "code",
   "execution_count": 9,
   "metadata": {
    "collapsed": true,
    "deletable": true,
    "editable": true
   },
   "outputs": [],
   "source": [
    "df_data = df_raw[['text_tok', 'val', 'aro']]\n",
    "df_data.columns = ['text', 'val', 'aro']\n",
    "df_raw.to_pickle('./data/df_raw.pkl')\n",
    "df_data.to_pickle('./data/df_data.pkl')"
   ]
  },
  {
   "cell_type": "code",
   "execution_count": 10,
   "metadata": {
    "collapsed": false,
    "deletable": true,
    "editable": true
   },
   "outputs": [
    {
     "name": "stdout",
     "output_type": "stream",
     "text": [
      "2315\n",
      "579\n"
     ]
    }
   ],
   "source": [
    "df_train, df_test = train_test_split(df_data, test_size=0.2)\n",
    "print(df_train.index.size)\n",
    "print(df_test.index.size)"
   ]
  },
  {
   "cell_type": "code",
   "execution_count": 11,
   "metadata": {
    "collapsed": false,
    "deletable": true,
    "editable": true
   },
   "outputs": [],
   "source": [
    "df_train.to_pickle('./data/df_train.pkl')\n",
    "df_test.to_pickle('./data/df_test.pkl')"
   ]
  },
  {
   "cell_type": "markdown",
   "metadata": {
    "deletable": true,
    "editable": true
   },
   "source": [
    "## Sentiment lexicon\n",
    "\n",
    "Sentiment lexicon needed to be preprocessed to add contractions"
   ]
  },
  {
   "cell_type": "code",
   "execution_count": 12,
   "metadata": {
    "collapsed": false,
    "deletable": true,
    "editable": true
   },
   "outputs": [
    {
     "name": "stdout",
     "output_type": "stream",
     "text": [
      "Original dict: 3214 entries\n",
      "Modified dict: 4092 entries\n"
     ]
    }
   ],
   "source": [
    "dict_lex = {}\n",
    "with open('./SCL-NMA/SCL-NMA.txt', 'r') as lex_file:\n",
    "    for line in lex_file:\n",
    "        pair = line.strip().split()\n",
    "        dict_lex[' '.join(pair[0:-1]).lower()] = float(pair[-1])\n",
    "\n",
    "print(\"Original dict: %d entries\" % len(dict_lex))\n",
    "\n",
    "contractions_1 = {\"would \": \"'d \", \"have \": \"'ve \", \"will \": \"'ll \", \"had \": \"'d \"}\n",
    "contractions_2 = {\"would have \": \"would've \", \"would have \": \"'d've \", \"will not \": \"won't \",\n",
    "                  \"was not \": \"wasn't \", \"did not \": \"didn't \", \"could not \": \"couldn't \",\n",
    "                  \"does not \": \"doesn't \", \"do not \": \"don't \", \"would not \": \"wouldn't \",\n",
    "                  \"can not \": \"cannot \", \"cannot \": \"can't \", \"should not \": \"shouldn't \"}\n",
    "\n",
    "new_dict = {}\n",
    "for k, v in dict_lex.iteritems():\n",
    "    for c_k, c_v in contractions_1.iteritems():\n",
    "        if k.lower().startswith(c_k):\n",
    "            new_dict[c_v + k[len(c_k):]] = v\n",
    "    \n",
    "    for c_k, c_v in contractions_2.iteritems():\n",
    "        if k.lower().startswith(c_k):\n",
    "            new_dict[c_v + k[len(c_k):]] = v\n",
    "\n",
    "dict_lex.update(new_dict)\n",
    "\n",
    "# Second time for \"can not\" \"cannot\" case\n",
    "new_dict = {}\n",
    "for k, v in dict_lex.iteritems():\n",
    "    for c_k, c_v in contractions_1.iteritems():\n",
    "        if k.lower().startswith(c_k):\n",
    "            new_dict[c_v + k[len(c_k):]] = v\n",
    "    \n",
    "    for c_k, c_v in contractions_2.iteritems():\n",
    "        if k.lower().startswith(c_k):\n",
    "            new_dict[c_v + k[len(c_k):]] = v\n",
    "\n",
    "dict_lex.update(new_dict)\n",
    "\n",
    "# Third time for \"' elimination\"\n",
    "new_dict = {}\n",
    "for k, v in dict_lex.iteritems():\n",
    "    if \"'\" in k:\n",
    "        new_dict[''.join(k.split(\"'\"))] = v\n",
    "\n",
    "dict_lex.update(new_dict)\n",
    "\n",
    "print(\"Modified dict: %d entries\" % len(dict_lex))\n",
    "\n",
    "with open('./data/dict_lex.pkl', 'wb') as lex_file:\n",
    "    pickle.dump(dict_lex, lex_file)"
   ]
  }
 ],
 "metadata": {
  "kernelspec": {
   "display_name": "Python 2",
   "language": "python",
   "name": "python2"
  },
  "language_info": {
   "codemirror_mode": {
    "name": "ipython",
    "version": 2
   },
   "file_extension": ".py",
   "mimetype": "text/x-python",
   "name": "python",
   "nbconvert_exporter": "python",
   "pygments_lexer": "ipython2",
   "version": "2.7.12"
  }
 },
 "nbformat": 4,
 "nbformat_minor": 2
}
