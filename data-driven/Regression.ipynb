{
 "cells": [
  {
   "cell_type": "code",
   "execution_count": 1,
   "metadata": {
    "collapsed": true,
    "deletable": true,
    "editable": true
   },
   "outputs": [],
   "source": [
    "from collections import defaultdict\n",
    "import pandas as pd\n",
    "import numpy as np\n",
    "\n",
    "from sklearn.linear_model import LinearRegression, Ridge\n",
    "from sklearn.metrics import mean_squared_error, r2_score\n",
    "from sklearn.svm import SVR\n",
    "from sklearn.model_selection import GridSearchCV\n",
    "from sklearn.ensemble import RandomForestRegressor"
   ]
  },
  {
   "cell_type": "code",
   "execution_count": 18,
   "metadata": {
    "collapsed": false
   },
   "outputs": [
    {
     "data": {
      "text/html": [
       "\n",
       "    <div class=\"bk-root\">\n",
       "        <a href=\"http://bokeh.pydata.org\" target=\"_blank\" class=\"bk-logo bk-logo-small bk-logo-notebook\"></a>\n",
       "        <span id=\"394c715a-23a5-49af-8b19-9d7f44075d0b\">Loading BokehJS ...</span>\n",
       "    </div>"
      ]
     },
     "metadata": {},
     "output_type": "display_data"
    },
    {
     "data": {
      "application/javascript": [
       "\n",
       "(function(global) {\n",
       "  function now() {\n",
       "    return new Date();\n",
       "  }\n",
       "\n",
       "  var force = true;\n",
       "\n",
       "  if (typeof (window._bokeh_onload_callbacks) === \"undefined\" || force === true) {\n",
       "    window._bokeh_onload_callbacks = [];\n",
       "    window._bokeh_is_loading = undefined;\n",
       "  }\n",
       "\n",
       "\n",
       "  \n",
       "  if (typeof (window._bokeh_timeout) === \"undefined\" || force === true) {\n",
       "    window._bokeh_timeout = Date.now() + 5000;\n",
       "    window._bokeh_failed_load = false;\n",
       "  }\n",
       "\n",
       "  var NB_LOAD_WARNING = {'data': {'text/html':\n",
       "     \"<div style='background-color: #fdd'>\\n\"+\n",
       "     \"<p>\\n\"+\n",
       "     \"BokehJS does not appear to have successfully loaded. If loading BokehJS from CDN, this \\n\"+\n",
       "     \"may be due to a slow or bad network connection. Possible fixes:\\n\"+\n",
       "     \"</p>\\n\"+\n",
       "     \"<ul>\\n\"+\n",
       "     \"<li>re-rerun `output_notebook()` to attempt to load from CDN again, or</li>\\n\"+\n",
       "     \"<li>use INLINE resources instead, as so:</li>\\n\"+\n",
       "     \"</ul>\\n\"+\n",
       "     \"<code>\\n\"+\n",
       "     \"from bokeh.resources import INLINE\\n\"+\n",
       "     \"output_notebook(resources=INLINE)\\n\"+\n",
       "     \"</code>\\n\"+\n",
       "     \"</div>\"}};\n",
       "\n",
       "  function display_loaded() {\n",
       "    if (window.Bokeh !== undefined) {\n",
       "      document.getElementById(\"394c715a-23a5-49af-8b19-9d7f44075d0b\").textContent = \"BokehJS successfully loaded.\";\n",
       "    } else if (Date.now() < window._bokeh_timeout) {\n",
       "      setTimeout(display_loaded, 100)\n",
       "    }\n",
       "  }\n",
       "\n",
       "  function run_callbacks() {\n",
       "    window._bokeh_onload_callbacks.forEach(function(callback) { callback() });\n",
       "    delete window._bokeh_onload_callbacks\n",
       "    console.info(\"Bokeh: all callbacks have finished\");\n",
       "  }\n",
       "\n",
       "  function load_libs(js_urls, callback) {\n",
       "    window._bokeh_onload_callbacks.push(callback);\n",
       "    if (window._bokeh_is_loading > 0) {\n",
       "      console.log(\"Bokeh: BokehJS is being loaded, scheduling callback at\", now());\n",
       "      return null;\n",
       "    }\n",
       "    if (js_urls == null || js_urls.length === 0) {\n",
       "      run_callbacks();\n",
       "      return null;\n",
       "    }\n",
       "    console.log(\"Bokeh: BokehJS not loaded, scheduling load and callback at\", now());\n",
       "    window._bokeh_is_loading = js_urls.length;\n",
       "    for (var i = 0; i < js_urls.length; i++) {\n",
       "      var url = js_urls[i];\n",
       "      var s = document.createElement('script');\n",
       "      s.src = url;\n",
       "      s.async = false;\n",
       "      s.onreadystatechange = s.onload = function() {\n",
       "        window._bokeh_is_loading--;\n",
       "        if (window._bokeh_is_loading === 0) {\n",
       "          console.log(\"Bokeh: all BokehJS libraries loaded\");\n",
       "          run_callbacks()\n",
       "        }\n",
       "      };\n",
       "      s.onerror = function() {\n",
       "        console.warn(\"failed to load library \" + url);\n",
       "      };\n",
       "      console.log(\"Bokeh: injecting script tag for BokehJS library: \", url);\n",
       "      document.getElementsByTagName(\"head\")[0].appendChild(s);\n",
       "    }\n",
       "  };var element = document.getElementById(\"394c715a-23a5-49af-8b19-9d7f44075d0b\");\n",
       "  if (element == null) {\n",
       "    console.log(\"Bokeh: ERROR: autoload.js configured with elementid '394c715a-23a5-49af-8b19-9d7f44075d0b' but no matching script tag was found. \")\n",
       "    return false;\n",
       "  }\n",
       "\n",
       "  var js_urls = [\"https://cdn.pydata.org/bokeh/release/bokeh-0.12.4.min.js\", \"https://cdn.pydata.org/bokeh/release/bokeh-widgets-0.12.4.min.js\"];\n",
       "\n",
       "  var inline_js = [\n",
       "    function(Bokeh) {\n",
       "      Bokeh.set_log_level(\"info\");\n",
       "    },\n",
       "    \n",
       "    function(Bokeh) {\n",
       "      \n",
       "      document.getElementById(\"394c715a-23a5-49af-8b19-9d7f44075d0b\").textContent = \"BokehJS is loading...\";\n",
       "    },\n",
       "    function(Bokeh) {\n",
       "      console.log(\"Bokeh: injecting CSS: https://cdn.pydata.org/bokeh/release/bokeh-0.12.4.min.css\");\n",
       "      Bokeh.embed.inject_css(\"https://cdn.pydata.org/bokeh/release/bokeh-0.12.4.min.css\");\n",
       "      console.log(\"Bokeh: injecting CSS: https://cdn.pydata.org/bokeh/release/bokeh-widgets-0.12.4.min.css\");\n",
       "      Bokeh.embed.inject_css(\"https://cdn.pydata.org/bokeh/release/bokeh-widgets-0.12.4.min.css\");\n",
       "    }\n",
       "  ];\n",
       "\n",
       "  function run_inline_js() {\n",
       "    \n",
       "    if ((window.Bokeh !== undefined) || (force === true)) {\n",
       "      for (var i = 0; i < inline_js.length; i++) {\n",
       "        inline_js[i](window.Bokeh);\n",
       "      }if (force === true) {\n",
       "        display_loaded();\n",
       "      }} else if (Date.now() < window._bokeh_timeout) {\n",
       "      setTimeout(run_inline_js, 100);\n",
       "    } else if (!window._bokeh_failed_load) {\n",
       "      console.log(\"Bokeh: BokehJS failed to load within specified timeout.\");\n",
       "      window._bokeh_failed_load = true;\n",
       "    } else if (force !== true) {\n",
       "      var cell = $(document.getElementById(\"394c715a-23a5-49af-8b19-9d7f44075d0b\")).parents('.cell').data().cell;\n",
       "      cell.output_area.append_execute_result(NB_LOAD_WARNING)\n",
       "    }\n",
       "\n",
       "  }\n",
       "\n",
       "  if (window._bokeh_is_loading === 0) {\n",
       "    console.log(\"Bokeh: BokehJS loaded, going straight to plotting\");\n",
       "    run_inline_js();\n",
       "  } else {\n",
       "    load_libs(js_urls, function() {\n",
       "      console.log(\"Bokeh: BokehJS plotting callback run at\", now());\n",
       "      run_inline_js();\n",
       "    });\n",
       "  }\n",
       "}(this));"
      ]
     },
     "metadata": {},
     "output_type": "display_data"
    }
   ],
   "source": [
    "from bokeh.charts import Bar, output_file, output_notebook, show\n",
    "from bokeh.layouts import row, gridplot\n",
    "output_notebook()"
   ]
  },
  {
   "cell_type": "markdown",
   "metadata": {
    "deletable": true,
    "editable": true
   },
   "source": [
    "## Loading features & labels"
   ]
  },
  {
   "cell_type": "code",
   "execution_count": 3,
   "metadata": {
    "collapsed": false,
    "deletable": true,
    "editable": true
   },
   "outputs": [],
   "source": [
    "df_train = pd.read_pickle('./data/df_train.pkl').sort_index()\n",
    "df_train_norm = pd.read_pickle('./data/df_train_norm.pkl').sort_index()\n",
    "df_train_emo = pd.read_pickle('./data/df_train_emo.pkl').sort_index()\n",
    "df_train_doc2vec = pd.read_pickle('./data/df_train_doc2vec.pkl').sort_index()"
   ]
  },
  {
   "cell_type": "code",
   "execution_count": 4,
   "metadata": {
    "collapsed": false,
    "deletable": true,
    "editable": true
   },
   "outputs": [],
   "source": [
    "df_test = pd.read_pickle('./data/df_test.pkl').sort_index()\n",
    "df_test_norm = pd.read_pickle('./data/df_test_norm.pkl').sort_index()\n",
    "df_test_emo = pd.read_pickle('./data/df_test_emo.pkl').sort_index()\n",
    "df_test_doc2vec = pd.read_pickle('./data/df_test_doc2vec.pkl').sort_index()"
   ]
  },
  {
   "cell_type": "code",
   "execution_count": 5,
   "metadata": {
    "collapsed": true,
    "deletable": true,
    "editable": true
   },
   "outputs": [],
   "source": [
    "val_linear = defaultdict(lambda : defaultdict(float))\n",
    "val_svr = defaultdict(lambda : defaultdict(float))\n",
    "val_ridge = defaultdict(lambda : defaultdict(float))\n",
    "\n",
    "aro_linear = defaultdict(lambda : defaultdict(float))\n",
    "aro_svr = defaultdict(lambda : defaultdict(float))\n",
    "aro_ridge = defaultdict(lambda : defaultdict(float))\n",
    "\n",
    "def test_regr(regr, train_data, train_label, test_data, test_label, show_params=False):\n",
    "    to_train = pd.concat(train_data, axis=1, join='inner')\n",
    "    to_test = pd.concat(test_data, axis=1, join='inner')\n",
    "    print('Train data shape: ')\n",
    "    print(to_train.shape)\n",
    "    print('Test data shape: ')\n",
    "    print(to_test.shape)\n",
    "    regr.fit(to_train, train_label)\n",
    "    pred = regr.predict(to_test)\n",
    "    t = r2_score(test_label, pred), mean_squared_error(test_label, pred)\n",
    "    print t\n",
    "    if show_params:\n",
    "        print(regr.best_params_)\n",
    "    return t"
   ]
  },
  {
   "cell_type": "markdown",
   "metadata": {
    "deletable": true,
    "editable": true
   },
   "source": [
    "## Linear Regression"
   ]
  },
  {
   "cell_type": "code",
   "execution_count": 6,
   "metadata": {
    "collapsed": false,
    "deletable": true,
    "editable": true
   },
   "outputs": [
    {
     "name": "stdout",
     "output_type": "stream",
     "text": [
      "=========== Valence ===========\n",
      "Train data shape: \n",
      "(2315, 123)\n",
      "Test data shape: \n",
      "(579, 123)\n",
      "(0.26927237175194396, 0.01613105131686431)\n",
      "=========== Arousal ===========\n",
      "Train data shape: \n",
      "(2315, 123)\n",
      "Test data shape: \n",
      "(579, 123)\n",
      "(0.56312285179835375, 0.024873191858683655)\n"
     ]
    }
   ],
   "source": [
    "print(\"=========== Valence ===========\")\n",
    "val_linear['r2']['all'], val_linear['mse']['all'] = \\\n",
    "    test_regr(LinearRegression(), [df_train_doc2vec, df_train_norm, df_train_emo],\n",
    "              df_train.val, [df_test_doc2vec, df_test_norm, df_test_emo], df_test.val)\n",
    "    \n",
    "print(\"=========== Arousal ===========\")\n",
    "aro_linear['r2']['all'], aro_linear['mse']['all'] = \\\n",
    "    test_regr(LinearRegression(), [df_train_doc2vec, df_train_norm, df_train_emo],\n",
    "              df_train.aro, [df_test_doc2vec, df_test_norm, df_test_emo], df_test.aro)"
   ]
  },
  {
   "cell_type": "markdown",
   "metadata": {},
   "source": [
    "## Ridge"
   ]
  },
  {
   "cell_type": "markdown",
   "metadata": {},
   "source": [
    "### All"
   ]
  },
  {
   "cell_type": "code",
   "execution_count": 7,
   "metadata": {
    "collapsed": false,
    "deletable": true,
    "editable": true
   },
   "outputs": [
    {
     "name": "stdout",
     "output_type": "stream",
     "text": [
      "=========== Valence ===========\n",
      "Train data shape: \n",
      "(2315, 123)\n",
      "Test data shape: \n",
      "(579, 123)\n",
      "(0.35614766893277705, 0.014213250726305368)\n",
      "{'alpha': 0.1}\n",
      "=========== Arousal ===========\n",
      "Train data shape: \n",
      "(2315, 123)\n",
      "Test data shape: \n",
      "(579, 123)\n",
      "(0.59439502996358318, 0.023092739641064647)\n",
      "{'alpha': 10.0}\n"
     ]
    }
   ],
   "source": [
    "print(\"=========== Valence ===========\")\n",
    "val_ridge['r2']['all'], val_ridge['mse']['all'] = \\\n",
    "    test_regr(GridSearchCV(Ridge(), param_grid={\"alpha\": [0.1, 1.0, 10.0]}, cv=5, n_jobs=-1,),\n",
    "              [df_train_doc2vec, df_train_norm, df_train_emo], df_train.val,\n",
    "              [df_test_doc2vec, df_test_norm, df_test_emo], df_test.val, show_params=True)\n",
    "    \n",
    "print(\"=========== Arousal ===========\")\n",
    "aro_ridge['r2']['all'], aro_ridge['mse']['all'] = \\\n",
    "    test_regr(GridSearchCV(Ridge(), param_grid={\"alpha\": [0.1, 1.0, 10.0]}, cv=5, n_jobs=-1,),\n",
    "              [df_train_doc2vec, df_train_norm, df_train_emo], df_train.aro,\n",
    "              [df_test_doc2vec, df_test_norm, df_test_emo], df_test.aro, show_params=True)"
   ]
  },
  {
   "cell_type": "markdown",
   "metadata": {},
   "source": [
    "### Drop"
   ]
  },
  {
   "cell_type": "code",
   "execution_count": 8,
   "metadata": {
    "collapsed": false
   },
   "outputs": [
    {
     "name": "stdout",
     "output_type": "stream",
     "text": [
      "=========== Valence ===========\n",
      "Train data shape: \n",
      "(2315, 23)\n",
      "Test data shape: \n",
      "(579, 23)\n",
      "(0.34461878556898895, 0.014467754596117004)\n",
      "{'alpha': 1.0}\n",
      "=========== Arousal ===========\n",
      "Train data shape: \n",
      "(2315, 23)\n",
      "Test data shape: \n",
      "(579, 23)\n",
      "(0.59328036748286039, 0.023156201906955231)\n",
      "{'alpha': 10.0}\n"
     ]
    }
   ],
   "source": [
    "print(\"=========== Valence ===========\")\n",
    "val_ridge['r2']['drop_doc2vec'], val_ridge['mse']['drop_doc2vec'] = \\\n",
    "    test_regr(GridSearchCV(Ridge(), param_grid={\"alpha\": [0.1, 1.0, 10.0]}, cv=5, n_jobs=-1,),\n",
    "              [df_train_norm, df_train_emo], df_train.val,\n",
    "              [df_test_norm, df_test_emo], df_test.val, show_params=True)\n",
    "    \n",
    "print(\"=========== Arousal ===========\")\n",
    "aro_ridge['r2']['drop_doc2vec'], aro_ridge['mse']['drop_doc2vec'] = \\\n",
    "    test_regr(GridSearchCV(Ridge(), param_grid={\"alpha\": [0.1, 1.0, 10.0]}, cv=5, n_jobs=-1,),\n",
    "              [df_train_norm, df_train_emo], df_train.aro,\n",
    "              [df_test_norm, df_test_emo], df_test.aro, show_params=True)"
   ]
  },
  {
   "cell_type": "code",
   "execution_count": 9,
   "metadata": {
    "collapsed": false
   },
   "outputs": [
    {
     "name": "stdout",
     "output_type": "stream",
     "text": [
      "=========== Valence ===========\n",
      "Train data shape: \n",
      "(2315, 108)\n",
      "Test data shape: \n",
      "(579, 108)\n",
      "(0.26871391968016467, 0.01614337932894383)\n",
      "{'alpha': 0.1}\n",
      "=========== Arousal ===========\n",
      "Train data shape: \n",
      "(2315, 108)\n",
      "Test data shape: \n",
      "(579, 108)\n",
      "(0.58951140001952962, 0.023370784544684071)\n",
      "{'alpha': 10.0}\n"
     ]
    }
   ],
   "source": [
    "print(\"=========== Valence ===========\")\n",
    "val_ridge['r2']['drop_emo'], val_ridge['mse']['drop_emo'] = \\\n",
    "    test_regr(GridSearchCV(Ridge(), param_grid={\"alpha\": [0.1, 1.0, 10.0]}, cv=5, n_jobs=-1,),\n",
    "              [df_train_doc2vec, df_train_norm], df_train.val,\n",
    "              [df_test_doc2vec, df_test_norm], df_test.val, show_params=True)\n",
    "    \n",
    "print(\"=========== Arousal ===========\")\n",
    "aro_ridge['r2']['drop_emo'], aro_ridge['mse']['drop_emo'] = \\\n",
    "    test_regr(GridSearchCV(Ridge(), param_grid={\"alpha\": [0.1, 1.0, 10.0]}, cv=5, n_jobs=-1,),\n",
    "              [df_train_doc2vec, df_train_norm], df_train.aro,\n",
    "              [df_test_doc2vec, df_test_norm], df_test.aro, show_params=True)"
   ]
  },
  {
   "cell_type": "code",
   "execution_count": 10,
   "metadata": {
    "collapsed": false
   },
   "outputs": [
    {
     "name": "stdout",
     "output_type": "stream",
     "text": [
      "=========== lex ===========\n",
      "==== Valence ====\n",
      "Train data shape: \n",
      "(2315, 122)\n",
      "Test data shape: \n",
      "(579, 122)\n",
      "(0.26693621693841674, 0.016182622698216752)\n",
      "{'alpha': 0.1}\n",
      "==== Arousal ====\n",
      "Train data shape: \n",
      "(2315, 122)\n",
      "Test data shape: \n",
      "(579, 122)\n",
      "(0.5945240004786736, 0.023085396825403167)\n",
      "{'alpha': 10.0}\n",
      "=========== full_cap ===========\n",
      "==== Valence ====\n",
      "Train data shape: \n",
      "(2315, 122)\n",
      "Test data shape: \n",
      "(579, 122)\n",
      "(0.3549091631860315, 0.014240591145614382)\n",
      "{'alpha': 0.1}\n",
      "==== Arousal ====\n",
      "Train data shape: \n",
      "(2315, 122)\n",
      "Test data shape: \n",
      "(579, 122)\n",
      "(0.59431096086360458, 0.023097526036649219)\n",
      "{'alpha': 10.0}\n",
      "=========== char_cap ===========\n",
      "==== Valence ====\n",
      "Train data shape: \n",
      "(2315, 122)\n",
      "Test data shape: \n",
      "(579, 122)\n",
      "(0.35463289720053548, 0.014246689807573867)\n",
      "{'alpha': 0.1}\n",
      "==== Arousal ====\n",
      "Train data shape: \n",
      "(2315, 122)\n",
      "Test data shape: \n",
      "(579, 122)\n",
      "(0.59438848915503417, 0.02309311203588232)\n",
      "{'alpha': 10.0}\n",
      "=========== char_count ===========\n",
      "==== Valence ====\n",
      "Train data shape: \n",
      "(2315, 122)\n",
      "Test data shape: \n",
      "(579, 122)\n",
      "(0.35465451589605379, 0.014246212567801717)\n",
      "{'alpha': 0.1}\n",
      "==== Arousal ====\n",
      "Train data shape: \n",
      "(2315, 122)\n",
      "Test data shape: \n",
      "(579, 122)\n",
      "(0.59468405570321015, 0.023076284230880272)\n",
      "{'alpha': 10.0}\n",
      "=========== word_count ===========\n",
      "==== Valence ====\n",
      "Train data shape: \n",
      "(2315, 122)\n",
      "Test data shape: \n",
      "(579, 122)\n",
      "(0.35607764526192986, 0.014214796521734697)\n",
      "{'alpha': 0.1}\n",
      "==== Arousal ====\n",
      "Train data shape: \n",
      "(2315, 122)\n",
      "Test data shape: \n",
      "(579, 122)\n",
      "(0.59466632291533306, 0.02307729383057408)\n",
      "{'alpha': 10.0}\n",
      "=========== punct_ex ===========\n",
      "==== Valence ====\n",
      "Train data shape: \n",
      "(2315, 122)\n",
      "Test data shape: \n",
      "(579, 122)\n",
      "(0.30918490303298807, 0.015249969138783698)\n",
      "{'alpha': 0.1}\n",
      "==== Arousal ====\n",
      "Train data shape: \n",
      "(2315, 122)\n",
      "Test data shape: \n",
      "(579, 122)\n",
      "(0.064943566921960683, 0.053236563538250153)\n",
      "{'alpha': 0.1}\n",
      "=========== punct_qt ===========\n",
      "==== Valence ====\n",
      "Train data shape: \n",
      "(2315, 122)\n",
      "Test data shape: \n",
      "(579, 122)\n",
      "(0.34695008965845098, 0.014416290296084324)\n",
      "{'alpha': 0.1}\n",
      "==== Arousal ====\n",
      "Train data shape: \n",
      "(2315, 122)\n",
      "Test data shape: \n",
      "(579, 122)\n",
      "(0.59212670793597943, 0.023221884434336884)\n",
      "{'alpha': 10.0}\n",
      "=========== elong_w ===========\n",
      "==== Valence ====\n",
      "Train data shape: \n",
      "(2315, 122)\n",
      "Test data shape: \n",
      "(579, 122)\n",
      "(0.35816616284342417, 0.014168691813248405)\n",
      "{'alpha': 0.1}\n",
      "==== Arousal ====\n",
      "Train data shape: \n",
      "(2315, 122)\n",
      "Test data shape: \n",
      "(579, 122)\n",
      "(0.59005772382337129, 0.023339680109842709)\n",
      "{'alpha': 10.0}\n"
     ]
    }
   ],
   "source": [
    "for col in df_train_norm.columns:\n",
    "    print(\"=========== \" + col + \" ===========\")\n",
    "    print(\"==== Valence ====\")\n",
    "    val_ridge['r2']['drop_%s' % col], val_ridge['mse']['drop_%s' % col] = \\\n",
    "        test_regr(GridSearchCV(Ridge(), param_grid={\"alpha\": [0.1, 1.0, 10.0]}, cv=5, n_jobs=-1,),\n",
    "                  [df_train_doc2vec, df_train_norm.drop(col, axis=1), df_train_emo], df_train.val,\n",
    "                  [df_test_doc2vec, df_test_norm.drop(col, axis=1), df_test_emo], df_test.val,\n",
    "                  show_params=True)\n",
    "\n",
    "    print(\"==== Arousal ====\")\n",
    "    aro_ridge['r2']['drop_%s' % col], aro_ridge['mse']['drop_%s' % col] = \\\n",
    "        test_regr(GridSearchCV(Ridge(), param_grid={\"alpha\": [0.1, 1.0, 10.0]}, cv=5, n_jobs=-1,),\n",
    "                  [df_train_doc2vec, df_train_norm.drop(col, axis=1), df_train_emo], df_train.aro,\n",
    "                  [df_test_doc2vec, df_test_norm.drop(col, axis=1), df_test_emo], df_test.aro,\n",
    "                  show_params=True)"
   ]
  },
  {
   "cell_type": "code",
   "execution_count": 25,
   "metadata": {
    "collapsed": true
   },
   "outputs": [],
   "source": [
    "val_ridge['r2']['bow'] = 0.311061\n",
    "val_ridge['mse']['bow'] = 0.015209\n",
    "aro_ridge['r2']['bow'] = -0.033189\n",
    "aro_ridge['mse']['bow'] = 0.058824"
   ]
  },
  {
   "cell_type": "code",
   "execution_count": 26,
   "metadata": {
    "collapsed": false
   },
   "outputs": [],
   "source": [
    "result_ridge_val = pd.DataFrame.from_dict(val_ridge)\n",
    "result_ridge_aro = pd.DataFrame.from_dict(aro_ridge)"
   ]
  },
  {
   "cell_type": "code",
   "execution_count": 16,
   "metadata": {
    "collapsed": false,
    "scrolled": true
   },
   "outputs": [],
   "source": [
    "output_file('features.html')\n",
    "p_val_r2 = Bar(result_ridge_val, values='r2', legend=None, color='blue',\n",
    "               bar_width=0.7, title=\"(v1) Valence with R2 score\")\n",
    "p_val_mse = Bar(result_ridge_val, values='mse', legend=None, color='blue',\n",
    "                bar_width=0.7, title=\"(v2) Valence with MSE\")\n",
    "p_aro_r2 = Bar(result_ridge_aro, values='r2', legend=None, color='orange',\n",
    "               bar_width=0.7, title=\"(a1) Arousal with R2 score\")\n",
    "p_aro_mse = Bar(result_ridge_aro, values='mse', legend=None, color='orange',\n",
    "                bar_width=0.7, title=\"(a2) Arousal with MSE\")\n",
    "show(gridplot([[p_val_r2, p_aro_r2], [p_val_mse, p_aro_mse]], plot_width=450, plot_height=400))"
   ]
  },
  {
   "cell_type": "code",
   "execution_count": 27,
   "metadata": {
    "collapsed": false
   },
   "outputs": [
    {
     "data": {
      "text/html": [
       "<div>\n",
       "<table border=\"1\" class=\"dataframe\">\n",
       "  <thead>\n",
       "    <tr style=\"text-align: right;\">\n",
       "      <th></th>\n",
       "      <th>mse_val</th>\n",
       "      <th>r2_val</th>\n",
       "      <th>mse_aro</th>\n",
       "      <th>r2_aro</th>\n",
       "    </tr>\n",
       "  </thead>\n",
       "  <tbody>\n",
       "    <tr>\n",
       "      <th>all</th>\n",
       "      <td>0.014213</td>\n",
       "      <td>0.356148</td>\n",
       "      <td>0.023093</td>\n",
       "      <td>0.594395</td>\n",
       "    </tr>\n",
       "    <tr>\n",
       "      <th>bow</th>\n",
       "      <td>0.015209</td>\n",
       "      <td>0.311061</td>\n",
       "      <td>0.058824</td>\n",
       "      <td>-0.033189</td>\n",
       "    </tr>\n",
       "    <tr>\n",
       "      <th>drop_char_cap</th>\n",
       "      <td>0.014247</td>\n",
       "      <td>0.354633</td>\n",
       "      <td>0.023093</td>\n",
       "      <td>0.594388</td>\n",
       "    </tr>\n",
       "    <tr>\n",
       "      <th>drop_char_count</th>\n",
       "      <td>0.014246</td>\n",
       "      <td>0.354655</td>\n",
       "      <td>0.023076</td>\n",
       "      <td>0.594684</td>\n",
       "    </tr>\n",
       "    <tr>\n",
       "      <th>drop_doc2vec</th>\n",
       "      <td>0.014468</td>\n",
       "      <td>0.344619</td>\n",
       "      <td>0.023156</td>\n",
       "      <td>0.593280</td>\n",
       "    </tr>\n",
       "    <tr>\n",
       "      <th>drop_elong_w</th>\n",
       "      <td>0.014169</td>\n",
       "      <td>0.358166</td>\n",
       "      <td>0.023340</td>\n",
       "      <td>0.590058</td>\n",
       "    </tr>\n",
       "    <tr>\n",
       "      <th>drop_emo</th>\n",
       "      <td>0.016143</td>\n",
       "      <td>0.268714</td>\n",
       "      <td>0.023371</td>\n",
       "      <td>0.589511</td>\n",
       "    </tr>\n",
       "    <tr>\n",
       "      <th>drop_full_cap</th>\n",
       "      <td>0.014241</td>\n",
       "      <td>0.354909</td>\n",
       "      <td>0.023098</td>\n",
       "      <td>0.594311</td>\n",
       "    </tr>\n",
       "    <tr>\n",
       "      <th>drop_lex</th>\n",
       "      <td>0.016183</td>\n",
       "      <td>0.266936</td>\n",
       "      <td>0.023085</td>\n",
       "      <td>0.594524</td>\n",
       "    </tr>\n",
       "    <tr>\n",
       "      <th>drop_punct_ex</th>\n",
       "      <td>0.015250</td>\n",
       "      <td>0.309185</td>\n",
       "      <td>0.053237</td>\n",
       "      <td>0.064944</td>\n",
       "    </tr>\n",
       "    <tr>\n",
       "      <th>drop_punct_qt</th>\n",
       "      <td>0.014416</td>\n",
       "      <td>0.346950</td>\n",
       "      <td>0.023222</td>\n",
       "      <td>0.592127</td>\n",
       "    </tr>\n",
       "    <tr>\n",
       "      <th>drop_word_count</th>\n",
       "      <td>0.014215</td>\n",
       "      <td>0.356078</td>\n",
       "      <td>0.023077</td>\n",
       "      <td>0.594666</td>\n",
       "    </tr>\n",
       "  </tbody>\n",
       "</table>\n",
       "</div>"
      ],
      "text/plain": [
       "                  mse_val    r2_val   mse_aro    r2_aro\n",
       "all              0.014213  0.356148  0.023093  0.594395\n",
       "bow              0.015209  0.311061  0.058824 -0.033189\n",
       "drop_char_cap    0.014247  0.354633  0.023093  0.594388\n",
       "drop_char_count  0.014246  0.354655  0.023076  0.594684\n",
       "drop_doc2vec     0.014468  0.344619  0.023156  0.593280\n",
       "drop_elong_w     0.014169  0.358166  0.023340  0.590058\n",
       "drop_emo         0.016143  0.268714  0.023371  0.589511\n",
       "drop_full_cap    0.014241  0.354909  0.023098  0.594311\n",
       "drop_lex         0.016183  0.266936  0.023085  0.594524\n",
       "drop_punct_ex    0.015250  0.309185  0.053237  0.064944\n",
       "drop_punct_qt    0.014416  0.346950  0.023222  0.592127\n",
       "drop_word_count  0.014215  0.356078  0.023077  0.594666"
      ]
     },
     "execution_count": 27,
     "metadata": {},
     "output_type": "execute_result"
    }
   ],
   "source": [
    "result_ridge_val.join(result_ridge_aro, lsuffix='_val', rsuffix='_aro')"
   ]
  },
  {
   "cell_type": "markdown",
   "metadata": {
    "deletable": true,
    "editable": true
   },
   "source": [
    "## SVR"
   ]
  },
  {
   "cell_type": "code",
   "execution_count": 8,
   "metadata": {
    "collapsed": false,
    "deletable": true,
    "editable": true
   },
   "outputs": [
    {
     "name": "stdout",
     "output_type": "stream",
     "text": [
      "Train data shape: \n",
      "(2315, 123)\n",
      "Test data shape: \n",
      "(579, 123)\n",
      "(0.21298401701267144, 0.017373635152127257)\n"
     ]
    }
   ],
   "source": [
    "%timeit\n",
    "val_svr['r2']['all'], val_svr['mse']['all'] = \\\n",
    "    test_regr(GridSearchCV(SVR(kernel='rbf', gamma=0.1), cv=5, n_jobs=-1,\n",
    "                   param_grid={\"C\": [1e0, 1e1, 1e2, 1e3],\n",
    "                               \"gamma\": np.logspace(-2, 2, 5)}),\n",
    "              [df_train_doc2vec, df_train_norm, df_train_emo],\n",
    "              df_train.val, [df_test_doc2vec, df_test_norm, df_test_emo], df_test.val)"
   ]
  }
 ],
 "metadata": {
  "kernelspec": {
   "display_name": "Python 2",
   "language": "python",
   "name": "python2"
  },
  "language_info": {
   "codemirror_mode": {
    "name": "ipython",
    "version": 2
   },
   "file_extension": ".py",
   "mimetype": "text/x-python",
   "name": "python",
   "nbconvert_exporter": "python",
   "pygments_lexer": "ipython2",
   "version": "2.7.12"
  }
 },
 "nbformat": 4,
 "nbformat_minor": 2
}
