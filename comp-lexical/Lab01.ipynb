{
 "cells": [
  {
   "cell_type": "markdown",
   "metadata": {},
   "source": [
    "# Convert xml to raw text files, parallel"
   ]
  },
  {
   "cell_type": "code",
   "execution_count": null,
   "metadata": {
    "collapsed": true
   },
   "outputs": [],
   "source": [
    "import os\n",
    "from tqdm import tqdm\n",
    "import xml.etree.ElementTree as ET\n",
    "from collections import defaultdict\n",
    "\n",
    "word_align = ET.parse('./xces/en-vi.xml')\n",
    "word_align_root = word_align.getroot()"
   ]
  },
  {
   "cell_type": "markdown",
   "metadata": {},
   "source": [
    "### Extract all gzip files\n",
    "~~~ bash\n",
    "for file in ./*/*/*/*.gz; do gzip -dk $file; done\n",
    "~~~"
   ]
  },
  {
   "cell_type": "code",
   "execution_count": null,
   "metadata": {
    "collapsed": true
   },
   "outputs": [],
   "source": [
    "def load_words(doc_path):\n",
    "    res = defaultdict(list)\n",
    "    with open(os.path.join('./xces', doc_path[:-3]), 'r') as f:\n",
    "        from_doc = ET.fromstring(f.read())\n",
    "        for sentence in from_doc.findall('s'):\n",
    "            res[sentence.attrib['id']] = [word.text.lower() for word in sentence.findall('w')]\n",
    "    return res"
   ]
  },
  {
   "cell_type": "code",
   "execution_count": null,
   "metadata": {
    "collapsed": false
   },
   "outputs": [],
   "source": [
    "fout_en = open('./xces/en.txt', 'w')\n",
    "fout_vi = open('./xces/vi.txt', 'w')\n",
    "\n",
    "for film in tqdm(word_align_root):\n",
    "    src_doc_sentences = load_words(film.attrib['fromDoc'])\n",
    "    dst_doc_sentences = load_words(film.attrib['toDoc'])\n",
    "\n",
    "    for pair in film:\n",
    "        dw_id = pair.attrib['xtargets'].split(';')\n",
    "        if len(dw_id) != 2 or dw_id[0] == '' or dw_id[1] == '':\n",
    "            continue\n",
    "\n",
    "        src_sen = ''\n",
    "        dst_sen = ''\n",
    "\n",
    "        for i in dw_id[0].split():\n",
    "            src_sen += ' ' + ' '.join(src_doc_sentences[i])\n",
    "        for i in dw_id[1].split():\n",
    "            dst_sen += ' ' + ' '.join(dst_doc_sentences[i])\n",
    "        \n",
    "        src_sen = src_sen.strip()\n",
    "        dst_sen = dst_sen.strip()\n",
    "        \n",
    "        if len(src_sen) < 1 or len(dst_sen) < 1:\n",
    "            continue\n",
    "        \n",
    "        fout_en.write(src_sen + '\\n')\n",
    "        fout_vi.write(dst_sen + '\\n')\n",
    "\n",
    "fout_en.close()\n",
    "fout_vi.close()"
   ]
  },
  {
   "cell_type": "markdown",
   "metadata": {},
   "source": [
    "### Use [vnTokenizer](http://mim.hus.vnu.edu.vn/phuonglh/tools/vn.hus.nlp.tokenizer-4.1.1-bin.tar.gz) to tokenize vi.txt to vi.token.txt\n",
    "~~~ bash\n",
    "cd ./vn.hus.nlp.tokenizer-4.1.1-bin\n",
    "bash vnTokenizer.sh -i ../xces/vi.txt -o ../xces/vi.token.txt\n",
    "~~~"
   ]
  },
  {
   "cell_type": "markdown",
   "metadata": {},
   "source": [
    "### Merge two raw text files to fast_align format"
   ]
  },
  {
   "cell_type": "code",
   "execution_count": null,
   "metadata": {
    "collapsed": true
   },
   "outputs": [],
   "source": [
    "fin_en = open('./xces/en.txt', 'r')\n",
    "fin_vi = open('./xces/vi.txt', 'r')\n",
    "fout = open('./xces/en-vi-2.txt', 'w')"
   ]
  },
  {
   "cell_type": "code",
   "execution_count": null,
   "metadata": {
    "collapsed": false
   },
   "outputs": [],
   "source": [
    "for (line_en, line_vi) in zip(fin_en, fin_vi):\n",
    "    fout.write(line_en.strip() + ' ||| ' + line_vi.strip() + '\\n')\n",
    "\n",
    "fout.close()\n",
    "fin_en.close()\n",
    "fin_vi.close()"
   ]
  },
  {
   "cell_type": "markdown",
   "metadata": {},
   "source": [
    "# Run [fast_align](https://github.com/clab/fast_align) for word alignment\n",
    "~~~ bash\n",
    "git clone git@github.com:clab/fast_align.git\n",
    "sudo apt-get install libgoogle-perftools-dev libsparsehash-dev\n",
    "cd fast_align\n",
    "mkdir build\n",
    "cd build\n",
    "cmake ..\n",
    "make\n",
    "./fast_align -i ../../xces/en-vi.txt -d -o -v > ../../xces/en-vi.align\n",
    "~~~\n",
    "\n",
    "~~~ raw\n",
    "  log_e likelihood: -7.82932e+07\n",
    "  log_2 likelihood: -1.12953e+08\n",
    "     cross entropy: 6.2075\n",
    "        perplexity: 73.9001\n",
    "      posterior p0: 0\n",
    " posterior al-feat: 0\n",
    "       size counts: 3945\n",
    "~~~\n",
    "\n",
    "# Main\n",
    "And here comes the main part"
   ]
  },
  {
   "cell_type": "code",
   "execution_count": 1,
   "metadata": {
    "collapsed": true
   },
   "outputs": [],
   "source": [
    "from tqdm import tqdm\n",
    "from IPython.display import Markdown, display\n",
    "from collections import defaultdict\n",
    "from nltk.stem import WordNetLemmatizer\n",
    "import sys"
   ]
  },
  {
   "cell_type": "code",
   "execution_count": 2,
   "metadata": {
    "collapsed": false
   },
   "outputs": [],
   "source": [
    "lines = [None, None]\n",
    "\n",
    "with open('./xces/en.txt', 'r') as f:\n",
    "    lines[0] = [line.strip().split() for line in f.readlines()]\n",
    "\n",
    "with open('./xces/vi.token.txt', 'r') as f:\n",
    "    lines[1] = [line.strip().split() for line in f.readlines()]\n",
    "\n",
    "align = []\n",
    "with open('./xces/en-vi.align', 'r') as f:\n",
    "    for line in f.readlines():\n",
    "        tmp = []\n",
    "        for pair in line.strip().split():\n",
    "            tmp.append([int(id) for id in pair.split('-')])\n",
    "        align.append(tmp)"
   ]
  },
  {
   "cell_type": "code",
   "execution_count": 3,
   "metadata": {
    "collapsed": false
   },
   "outputs": [],
   "source": [
    "lemmatizer = WordNetLemmatizer()"
   ]
  },
  {
   "cell_type": "code",
   "execution_count": 4,
   "metadata": {
    "collapsed": false
   },
   "outputs": [],
   "source": [
    "def word_matched(src_word, target_word, lang, pos):\n",
    "#     return src_word == target_word\n",
    "    if lang == 0:\n",
    "        return src_word == lemmatizer.lemmatize(target_word, pos)\n",
    "    else:\n",
    "        return src_word == target_word\n",
    "\n",
    "def words_in_line(word, line, lang, pos):\n",
    "    return [idx for idx, w in enumerate(line) if word_matched(word, w, lang, pos)]\n",
    "\n",
    "def find(word, lang, pos='n'):\n",
    "    word = word.replace(' ', '_')\n",
    "    res = []\n",
    "\n",
    "    for idx, line in tqdm(enumerate(lines[lang])):\n",
    "        word_ids = words_in_line(word, line, lang, pos)\n",
    "        if word_ids and len(word_ids) > 1:\n",
    "            for word_id in word_ids:\n",
    "                tmp = [pair[1-lang] for pair in align[idx] if pair[lang] == word_id]\n",
    "                if len(tmp) > 0:\n",
    "                    res += [(idx, word_id, tmp)]\n",
    "    \n",
    "    return res"
   ]
  },
  {
   "cell_type": "code",
   "execution_count": 5,
   "metadata": {
    "collapsed": false
   },
   "outputs": [],
   "source": [
    "def print_lines(res_indexes, lang, max_lines = -1):\n",
    "    display(Markdown('---'))\n",
    "    cnt = 0\n",
    "\n",
    "    for res_id in res_indexes:\n",
    "        src_sen = ''\n",
    "        dst_sen = ''\n",
    "        \n",
    "        for idx, w in enumerate(lines[lang][res_id[0]]):\n",
    "            if idx == res_id[1]:\n",
    "                src_sen += ' **' + w + '** '\n",
    "            else:\n",
    "                src_sen += ' ' + w + ' '\n",
    "\n",
    "        for idx, w in enumerate(lines[1-lang][res_id[0]]):\n",
    "            if idx in res_id[2]:\n",
    "                dst_sen += ' **' + w + '** '\n",
    "            else:\n",
    "                dst_sen += ' ' + w + ' '\n",
    "        \n",
    "        display(Markdown(src_sen))\n",
    "        display(Markdown(dst_sen))\n",
    "        display(Markdown('---'))\n",
    "        \n",
    "        if max_lines > 0 and max_lines >= cnt:\n",
    "            break\n",
    "\n",
    "def print_freq(res_indexes, lang):\n",
    "    res = defaultdict(int)\n",
    "    for res_id in res_indexes:\n",
    "        try:\n",
    "            tmp_word = ' '.join([lines[1-lang][res_id[0]][idx] for idx in res_id[2]])\n",
    "            res[tmp_word] += 1\n",
    "        except:\n",
    "            print(\"Unexpected error:\", sys.exc_info()[0])\n",
    "    print(sorted(list(res.items()), key=lambda x: x[1], reverse=True))"
   ]
  },
  {
   "cell_type": "code",
   "execution_count": 8,
   "metadata": {
    "collapsed": false
   },
   "outputs": [
    {
     "name": "stderr",
     "output_type": "stream",
     "text": [
      "2253696it [01:26, 26066.87it/s]\n"
     ]
    }
   ],
   "source": [
    "t = find('bake', 0, 'v')"
   ]
  },
  {
   "cell_type": "code",
   "execution_count": 9,
   "metadata": {
    "collapsed": false
   },
   "outputs": [
    {
     "name": "stdout",
     "output_type": "stream",
     "text": [
      "[('nướng', 3), ('đậu_trắng sốt cà', 1), ('đậu_trắng sốt', 1), ('cà', 1)]\n"
     ]
    },
    {
     "data": {
      "text/markdown": [
       "---"
      ],
      "text/plain": [
       "<IPython.core.display.Markdown object>"
      ]
     },
     "metadata": {},
     "output_type": "display_data"
    },
    {
     "data": {
      "text/markdown": [
       " -  um  ,  baking-  -  baking  soda  .  not  **baking**  powder  . "
      ],
      "text/plain": [
       "<IPython.core.display.Markdown object>"
      ]
     },
     "metadata": {},
     "output_type": "display_data"
    },
    {
     "data": {
      "text/markdown": [
       " sô-đa  chứ  không  phải  là  **nướng**  bột  . "
      ],
      "text/plain": [
       "<IPython.core.display.Markdown object>"
      ]
     },
     "metadata": {},
     "output_type": "display_data"
    },
    {
     "data": {
      "text/markdown": [
       "---"
      ],
      "text/plain": [
       "<IPython.core.display.Markdown object>"
      ]
     },
     "metadata": {},
     "output_type": "display_data"
    },
    {
     "data": {
      "text/markdown": [
       " **baked**  potato  with  cheese  and  baked  beans  . "
      ],
      "text/plain": [
       "<IPython.core.display.Markdown object>"
      ]
     },
     "metadata": {},
     "output_type": "display_data"
    },
    {
     "data": {
      "text/markdown": [
       " khoai_tây  **nướng**  phô_mai  và  đậu  . "
      ],
      "text/plain": [
       "<IPython.core.display.Markdown object>"
      ]
     },
     "metadata": {},
     "output_type": "display_data"
    },
    {
     "data": {
      "text/markdown": [
       "---"
      ],
      "text/plain": [
       "<IPython.core.display.Markdown object>"
      ]
     },
     "metadata": {},
     "output_type": "display_data"
    },
    {
     "data": {
      "text/markdown": [
       " your  choices  are  **baked**  potato  ,  baked  beans  ... "
      ],
      "text/plain": [
       "<IPython.core.display.Markdown object>"
      ]
     },
     "metadata": {},
     "output_type": "display_data"
    },
    {
     "data": {
      "text/markdown": [
       " anh  chọn  khoai_tây  **nướng**  ,  đậu_trắng  sốt  cà  ... "
      ],
      "text/plain": [
       "<IPython.core.display.Markdown object>"
      ]
     },
     "metadata": {},
     "output_type": "display_data"
    },
    {
     "data": {
      "text/markdown": [
       "---"
      ],
      "text/plain": [
       "<IPython.core.display.Markdown object>"
      ]
     },
     "metadata": {},
     "output_type": "display_data"
    },
    {
     "data": {
      "text/markdown": [
       " your  choices  are  baked  potato  ,  **baked**  beans  ... "
      ],
      "text/plain": [
       "<IPython.core.display.Markdown object>"
      ]
     },
     "metadata": {},
     "output_type": "display_data"
    },
    {
     "data": {
      "text/markdown": [
       " anh  chọn  khoai_tây  nướng  ,  **đậu_trắng**  **sốt**  **cà**  ... "
      ],
      "text/plain": [
       "<IPython.core.display.Markdown object>"
      ]
     },
     "metadata": {},
     "output_type": "display_data"
    },
    {
     "data": {
      "text/markdown": [
       "---"
      ],
      "text/plain": [
       "<IPython.core.display.Markdown object>"
      ]
     },
     "metadata": {},
     "output_type": "display_data"
    },
    {
     "data": {
      "text/markdown": [
       " -  **baked**  beans  .  the  baked  beans  . "
      ],
      "text/plain": [
       "<IPython.core.display.Markdown object>"
      ]
     },
     "metadata": {},
     "output_type": "display_data"
    },
    {
     "data": {
      "text/markdown": [
       " **đậu_trắng**  **sốt**  cà  . "
      ],
      "text/plain": [
       "<IPython.core.display.Markdown object>"
      ]
     },
     "metadata": {},
     "output_type": "display_data"
    },
    {
     "data": {
      "text/markdown": [
       "---"
      ],
      "text/plain": [
       "<IPython.core.display.Markdown object>"
      ]
     },
     "metadata": {},
     "output_type": "display_data"
    },
    {
     "data": {
      "text/markdown": [
       " -  baked  beans  .  the  **baked**  beans  . "
      ],
      "text/plain": [
       "<IPython.core.display.Markdown object>"
      ]
     },
     "metadata": {},
     "output_type": "display_data"
    },
    {
     "data": {
      "text/markdown": [
       " đậu_trắng  sốt  **cà**  . "
      ],
      "text/plain": [
       "<IPython.core.display.Markdown object>"
      ]
     },
     "metadata": {},
     "output_type": "display_data"
    },
    {
     "data": {
      "text/markdown": [
       "---"
      ],
      "text/plain": [
       "<IPython.core.display.Markdown object>"
      ]
     },
     "metadata": {},
     "output_type": "display_data"
    }
   ],
   "source": [
    "print_freq(t, 0)\n",
    "print_lines(t, 0)"
   ]
  },
  {
   "cell_type": "code",
   "execution_count": null,
   "metadata": {
    "collapsed": false
   },
   "outputs": [],
   "source": [
    "print(t)"
   ]
  }
 ],
 "metadata": {
  "kernelspec": {
   "display_name": "Python 3",
   "language": "python",
   "name": "python3"
  },
  "language_info": {
   "codemirror_mode": {
    "name": "ipython",
    "version": 3
   },
   "file_extension": ".py",
   "mimetype": "text/x-python",
   "name": "python",
   "nbconvert_exporter": "python",
   "pygments_lexer": "ipython3",
   "version": "3.5.2"
  }
 },
 "nbformat": 4,
 "nbformat_minor": 1
}
